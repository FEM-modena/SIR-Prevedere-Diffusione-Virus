{
 "cells": [
  {
   "cell_type": "markdown",
   "metadata": {},
   "source": [
    "<img src=\"./images/callysto_notebook-banner_top.png\" width=\"2000px\"/> "
   ]
  },
  {
   "cell_type": "markdown",
   "metadata": {},
   "source": [
    "# Creare un modello per capire la diffusione dei Virus (SARS-CoV-2)\n",
    "\n",
    "##### Questo corso si basa su un modulo sviluppato da [Callysto](https://callysto.ca/callysto/) per il sistema educativo Canadese. [Future Education Modena](https://www.fem.digital/) sta lavorando ad un progetto simile per il sistema educativo Italiano. \n",
    "\n",
    "Siamo interessati a modellare l'epidemia del Coronavirus (SARS-CoV-2). Partiamo dal presupposto che la popolazione totale possa essere suddivisa in una serie di classi, ognuna delle quali dipende dallo stato dell'infezione. Il modello epidemiologico [**SIR Model**](https://en.wikipedia.org/wiki/Compartmental_models_in_epidemiology) è il più semplice e, come suggerisce il nome, divide la popolazione in tre classi. "
   ]
  },
  {
   "cell_type": "markdown",
   "metadata": {},
   "source": [
    "**Risultati:**\n",
    "* Esaminare e visualizzare concetti ed esempi relativi alla diffusione del virus.\n",
    "* Esaminare la linea del tempo/mappa del virus.\n",
    "* Visualizzare il modello matematico che mostra il tasso di guarigione, di infezione e di rimozione."
   ]
  },
  {
   "cell_type": "markdown",
   "metadata": {},
   "source": [
    "## Il modello SIR\n",
    "Il modello SIR è un modello matematico che aiuta a studiare la diffusione di una malattia infettiva mortale oppure immunizzante (cioè si può prendere una sola volta)."
   ]
  },
  {
   "cell_type": "markdown",
   "metadata": {},
   "source": [
    "### Parametri della popolazione\n",
    "\n",
    "In questo modello, la popolazione totale è divisa in tre gruppi:\n",
    "\n",
    "* **S**uscettibili: individui che possono essere infettati ma che non lo sono ancora stati\n",
    "* **I**nfetti: individui infetti\n",
    "* **R**imossi: individui che sono morti o recuperati \n",
    "\n",
    "Le iniziali **S I R** attribuiscono al modello il nome SIR.\n",
    "\n",
    "Stiamo esaminando i cambiamenti, nel corso di un'epidemia, del numero di questi individui, rappresentati da $S$, $I$ e $R$. In altre parole, vogliamo capire come, col passare del tempo, il numero di individui in ogni gruppo cambia. \n",
    "\n",
    "Avere un modello realistico potrebbe essere utile per prevedere l'esito a lungo termine di un'epidemia e informare gli interventi di salute pubblica, come sta accadendo in questi giorni in tutto il mondo.\n",
    "\n",
    "Se possiamo prevedere che il numero di persone nel gruppo rimossi (**R**) rimarrà basso e il numero di persone infette (**I**) scenderà rapidamente a zero, allora non c'è bisogno di intervenire e possiamo lasciare che l'epidemia finisca da sola, fornendo solo assistenza medica alle persone infette.\n",
    "\n",
    "Al contrario, se prevediamo un forte aumento del numero di persone infette e rimosse, allora l'epidemia ha bisogno di un intervento rapido prima di provocare un gran numero di vittime. Per questo motivo, uno degli interventi più importanti da mettere in atto è quello di assicurarsi che non ci siano contatti tra le persone infette e quelle suscettibili.\n",
    "\n",
    "Ora descriviamo il modello matematico SIR (Susceptible, Infected, Removed) di un'epidemia nel tempo (ad esempio ogni settimana). Scriviamo $S_t, I_t, R_t$ per indicare il numero di individui suscettibili, infetti e rimossi nel punto temporale $t$. $t=1$ è il primo punto temporale registrato, $t=2$ è il secondo e così via. Chiamiamo *unità temporale* il tempo trascorso tra due punti temporali, ad esempio un giorno o una settimana.\n",
    "\n",
    "In questo modello, assumiamo che la **popolazione totale sia costante** (quindi le nascite e i decessi sono ignorati) per la durata della simulazione del modello. Rappresentiamo la dimensione totale della popolazione per $N$, e quindi in qualsiasi punto temporale $t$ abbiamo\n",
    "\n",
    "$$N=S_t + I_t + R_t$$"
   ]
  },
  {
   "cell_type": "markdown",
   "metadata": {},
   "source": [
    "### Modellare la progressione della malattia\n",
    "\n",
    "Si presume che la trasmissione richieda il contatto tra un individuo infetto e un individuo sensibile. Supponiamo anche che la malattia richieda un tempo costante per progredire all'interno di un individuo infetto fino alla sua rimozione (morte o guarigione). Dobbiamo definire questi due processi (infezione e rimozione) e modellare il loro impatto sulla transizione dal momento in cui $t = (S_t,I_t,R_t,R_t)$ al successivo stato $t + 1 = (S_{t+1},I_{t+1},R_{t+1},R_{t+1})$.\n",
    "\n",
    "![SIR1](./images/SIR1.png)\n",
    "\n",
    "Le occorrenze di nuove infezioni di è modellato utilizzando un parametro $\\beta$, che dà la proporzione di contatti tra le persone suscettibili e le persone infette, durante una unità di tempo, che si traduce in infezione. Possiamo quindi descrivere il numero di nuove persone infette come $\\dfrac{\\beta S_t I_t}{N}$ dove il termine $S_t I_t$ rappresenta l'insieme di tutti i possibili contatti tra persone suscettibili e persone infette. Discuteremo di questo termine più tardi.\n",
    "\n",
    "Il verificarsi di rimozioni di persone infette è modellato utilizzando un parametro indicato da $\\gamma$. Si definisce come proporzione di individui infetti che muoiono o si riprendono tra due punti temporali. Se ci viene dato che la durata di un'infezione è $T$ (cioè quanti punti di tempo ci vogliono per un individuo tra l'infezione e la rimozione), allora $\\gamma = \\dfrac{1}{T}$.  \n",
    "\n",
    "\n",
    "![SIR2](./images/SIR2.png)\n",
    "\n",
    "Tenendo conto del tasso di contatto $\\beta$ e del tasso di rimozione $\\gamma$, allora ogni gruppo di popolazione cambia all'interno di una unità di tempo come segue\n",
    "\n",
    "$$\n",
    "\\begin{align}\n",
    "S_{t+1} &= S_t -  \\dfrac{{\\beta} S_t I_t}{N}\\\\\n",
    "I_{t+1} &= I_t +  \\dfrac{{\\beta} S_t I_t}{N} - \\gamma I_t \\\\\n",
    "R_{t+1} &= R_t + \\gamma I_t\\\\\n",
    "N&=S_t + I_t + R_t\n",
    "\\end{align}\n",
    "$$\n",
    "\n",
    "Queste equazioni formano il modello SIR. Esse permettono, dalla conoscenza dei parametri del modello ($\\beta$ e $\\gamma$) e dello stato attuale ($S_t,I_t,R_t$) di una popolazione di prevedere i prossimi stati della popolazione per i punti temporali successivi. Tali modelli sono fondamentali ai nostri giorni per il monitoraggio e il controllo delle epidemie di malattie infettive."
   ]
  },
  {
   "cell_type": "markdown",
   "metadata": {},
   "source": [
    "##### Osservazioni tecniche.\n",
    "In primo luogo, si noti che il modello SIR non impone che i valori $S_t,I_t,R_t$ in un dato punto temporale siano interi. Poiché $\\beta$ e $\\gamma$ sono in realtà numeri fluttuanti, questi valori sono in realtà il più delle volte non interi. Questo va bene perché il modello SIR è un modello approssimativo e mira soprattutto a prevedere la dinamica generale di un'epidemia, non i valori precisi per il numero di individui suscettibili, infetti e rimossi.\n",
    "\n",
    "Successivamente, ci si può chiedere come trovare i valori dei parametri $\\beta$ e $\\gamma$ necessari per avere un modello SIR completo. \n",
    "\n",
    "Come discusso in precedenza, il parametro $\\gamma$ è relativamente facile da trovare sapendo come la malattia progredisce in un paziente, poiché è per lo più l'inverso del tempo medio in cui un paziente è malato. \n",
    "\n",
    "Il parametro $\\beta$ è meno facile da ottenere. Leggendo le equazioni possiamo vedere che durante un punto temporale, tra gli individui $S_t$ suscettibili, il numero che si infetta è $(\\dfrac{{\\beta}}{N}) S_t I_t$. Come già detto, il prodotto $S_t I_t$ può essere interpretato come l'insieme di tutti i possibili contatti tra gli individui $S_t$ suscettibili e gli individui $I_t$ infetti ed è spesso un numero elevato, molto più grande di $S_t$ e dell'ordine di $N^2$. La divisione per $N$ mira ad abbassare questo numero, soprattutto per normalizzarlo in base alla popolazione totale, per assicurarsi che sia in ordine di $N$ e non quadratico in $N$. Quindi, affinché il numero di nuovi individui infetti durante un'unità di tempo sia ragionevole, $\\beta$ è generalmente un piccolo numero compreso tra $0$ e $1$. Ma formalmente, se scegliamo un valore per $\\beta$ troppo grande, allora il modello SIR prevede un valore per $S_t$ che può essere negativo, il che non è coerente con il fenomeno modellato. Quindi scegliere il valore di $\\beta$ è il passo cruciale nella modellazione di un'epidemia."
   ]
  },
  {
   "cell_type": "code",
   "execution_count": 5,
   "metadata": {},
   "outputs": [],
   "source": [
    "# Questa funzione prende come input un vettore y che contiene tutti i valori iniziali,\n",
    "# t: il numero di punti di tempo (ad es. giorni)\n",
    "# beta: proporzione di contatti che provocano infezioni\n",
    "# gamma: proporzione di infetti che vengono rimossi\n",
    "# S1,I1,R1 = dimensioni iniziali della popolazione\n",
    "\n",
    "def discrete_SIR(S1,I1,R1,t,beta,gamma):\n",
    "    # Matrici vuote per ogni classe\n",
    "    S = [] # popolazione suscettibile\n",
    "    I = [] # popolazione infetta\n",
    "    R = [] # popolazione rimossa\n",
    "    N = S1+I1+R1 # popolazione totale\n",
    "    \n",
    "    # Aggiungere i valori iniziali\n",
    "    S.append(S1)\n",
    "    I.append(I1)\n",
    "    R.append(R1)\n",
    "    \n",
    "    # applicare il modello SIR: iterare sul numero totale di giorni - 1\n",
    "    for i in range(t-1):\n",
    "        S_next = S[i] - (beta/N)*((S[i]*I[i]))\n",
    "        S.append(S_next)\n",
    "        \n",
    "        I_next = I[i] + (beta/N)*((S[i]*I[i])) - gamma*I[i]\n",
    "        I.append(I_next)\n",
    "        \n",
    "        R_next = R[i] + gamma * I[i]\n",
    "        R.append(R_next)\n",
    "    \n",
    "    # ritorna un array S,I,R le cui voci sono vari valori per suscettibili, infetti, rimossi \n",
    "    return((S,I,R))"
   ]
  },
  {
   "cell_type": "markdown",
   "metadata": {},
   "source": [
    "##  Modellare un'epidemia legata al SARS-CoV-2\n",
    "\n",
    "Era da decenni che un'epidemia di queste dimensioni colpiva un così alto numero di persone in giro per il mondo. Per sapere di più sul SARS-CoV-2 questi link sono utili e i più informativi: \n",
    "\n",
    "- [Istituto superiore di sanità](https://www.epicentro.iss.it/coronavirus/cosa-sono)\n",
    "- [World Health Organization](https://www.who.int/health-topics/coronaviru+s)\n",
    "- [Centro europeo per la prevenzione e il controllo delle malattie](https://www.ecdc.europa.eu/en/novel-coronavirus-china)\n",
    "- [Un Tracker della diffusione del virus SARS-CoV-2](https://shiny.john-coene.com/coronavirus/) sviluppato da [John Coene](https://john-coene.com/)\n",
    "\n",
    "Il termine medico-matematico usato per descrivere quanto contagioso un virus sia è **$R_0$** (erre con zero). Non è ancora chiaro per quanto sia contagioso il virus, soprattutto perché questo valore non è fisso ma cambia da individuo a individuo visto che **$R_0$** non è altro che il numero di persone che, in media, un individuo infetto contagia a sua volta. \n",
    "\n",
    "Un ottimo articolo di [Paolo Giordano](https://www.corriere.it/cronache/20_febbraio_25/matematicadel-contagioche-ci-aiutaa-ragionarein-mezzo-caos-3ddfefc6-5810-11ea-a2d7-f1bec9902bd3.shtml?refresh_ce-cp) uscito sul **Corriere della Sera** spiega con un linguaggio accessibile a tutti la matematica dietro il modello SIR. \n",
    "\n",
    "The average time an infected individual remains infected by the bubonic plague is 11 days.\n",
    "\n",
    "With the information above, we will be able to get the parameters of the SIR model for this outbreak and observe if indeed what this model predicts generates results corresponding to what happened in reality."
   ]
  },
  {
   "cell_type": "markdown",
   "metadata": {},
   "source": [
    "### Domanda 1:"
   ]
  },
  {
   "cell_type": "markdown",
   "metadata": {},
   "source": [
    "### Domanda 2:\n",
    "\n",
    "We know that the average time an individual remained infected is 11 days. What is the rate of removal ($\\gamma$)?"
   ]
  },
  {
   "cell_type": "markdown",
   "metadata": {},
   "source": [
    "### Question 3:\n",
    "\n",
    "We are now trying something more difficult but more interesting. We introduced a mathematical model for outbreaks, but nothing so far shows that this SIR model is appropriate to model an outbreak such as the Eyam plague outbreak. We want to answer this question now.\n",
    "\n",
    "From questions 1 and 2 above we know the values of $N$ and $\\gamma$ (check your answers at the bottom of this notebook). From the data table we also know $S_1,I_1,R_1$, the state of the population at the start of the outbreak. So if we want to apply the SIR model we need to find  a value for $\\beta$ the parameter, the number susceptible people becoming infected during a time unit. We consider here that a time unit is 1 day; the Eyam outbreak spanned 112 days, so 112 time units, even if data were only recorded every 2 weeks. \n",
    "\n",
    "A standard scientific approach for the problem of finding $\\beta$ is to try various values and see if there is one that leads to predicted values for $S_n,I_n,R_n$ that match the observed data. In order to evaluate this match, we focus on the number of infected people, the most important element of an outbreak.\n",
    "\n",
    "The code below allows you to do this: you can choose a value of $\\beta$, click on the \"Run interact\" button and it will show on the same graph a set of 8 blue dots (the observed number of infected people from the data table) and a set of 112 red dots, corresponding to the predicted number of infected individuals for the chosen value of $\\beta$.\n",
    "\n",
    "While there are several mathematical ways to define what would be the *best fit*, here we are not getting into this and you are just asked to try to find a value of $\\beta$ that generated blue dots being approximately on the graph defined by the red dots. Pay particular attention to the first four blue dots.\n",
    "\n",
    "Note that in this case $0 < \\beta < 1$.\n",
    "\n",
    "##### Warning:\n",
    "The SIR model is a very simple approximation of the dynamics of a true outbreak, so don't expect to find a value of $\\beta$ that generates a graph that contains exactly all observed data points (blue dots).\n",
    "\n",
    "In particular note that the data from September 3 and 19 seem to be somewhat of an anomaly as we observe a sharp decrease in the number of infected followed by a surge. This could be due to many reasons, for example poor statistics recording (we are considering a group of people under heavy stress likely more motivated by trying to stay alive than to record accurate vital statistics).\n",
    "\n",
    "So here we are interested in finding a parameter $\\beta$ that captures the general dynamics (increase followed by a post-peak decrease) of the outbreak. You can expect to find a reasonable value for $\\beta$ but be aware that many values, especially too high, will result in a very poor match between observed data and model predictions."
   ]
  },
  {
   "cell_type": "code",
   "execution_count": 2,
   "metadata": {},
   "outputs": [
    {
     "data": {
      "application/vnd.jupyter.widget-view+json": {
       "model_id": "d5f97a8b8d3047cba6bb059b06843ee0",
       "version_major": 2,
       "version_minor": 0
      },
      "text/plain": [
       "interactive(children=(FloatText(value=0.5, description='Enter a value for $ \\\\beta$', step=0.01, style=Descrip…"
      ]
     },
     "metadata": {},
     "output_type": "display_data"
    }
   ],
   "source": [
    "from ipywidgets import interact_manual, widgets\n",
    "import matplotlib.pyplot as plt\n",
    "\n",
    "# set style\n",
    "s = {'description_width': 'initial'}\n",
    "\n",
    "# Set interact manual box widget for beta\n",
    "@interact_manual(answer=widgets.FloatText(value=0.50, description='Enter a value for ' + r'$ \\beta$',\n",
    "    disabled=False, style=s, step=0.01\n",
    "))\n",
    "\n",
    "# define function to find the appropriate value of beta\n",
    "# this function takes as input a floating value and outputs a plot with the best fit curve\n",
    "def find_beta(answer):\n",
    "    \n",
    "    # set initial values for SIR model\n",
    "    S1,I1,R1 = 254,7,0\n",
    "    \n",
    "    # Use original data on Number of infected from table in the notebook\n",
    "    ori_data = [7,14,22,29,21,8,21,0]\n",
    "    \n",
    "    # use days, time data was provided biweekly, we transform to days here\n",
    "    ori_days = [1,14,28,42,56,70,84,112]\n",
    "    \n",
    "    # set number of days as the second to last entry on the ori_days array \n",
    "    n = ori_days[len(ori_days)-1]-ori_days[0]+1\n",
    "    \n",
    "    # get beta from answer - to be sure transform to float\n",
    "    beta = float(answer)\n",
    "    \n",
    "    # Gamma was obtained from disease\n",
    "    gamma = 1/11\n",
    "    \n",
    "    # Compute SIR values using our discrete_SIR function\n",
    "    (S,I,R) = discrete_SIR(S1,I1,R1,n,beta,gamma)\n",
    "    \n",
    "    # Figure\n",
    "    fig,ax = plt.subplots(figsize=(10,10))\n",
    " \n",
    "    # Scatter plot of original number of infected in the course of 112 days\n",
    "    plt.scatter(ori_days,ori_data,c=\"blue\", label=\"Original Data\")\n",
    "    \n",
    "    # Scatter plot of infected obtained from SIR mode, in the course of 112 days\n",
    "    plt.scatter(range(n),I,c=\"red\",label=\"SIR Model Predictions\")\n",
    "    \n",
    "    # Make the plot pretty\n",
    "    plt.xlabel('Time (days)')\n",
    "    plt.ylabel('Infected Individuals')\n",
    "    plt.title('Real Data vs Model')\n",
    "    legend = ax.legend()\n",
    "    plt.show()"
   ]
  },
  {
   "cell_type": "markdown",
   "metadata": {},
   "source": [
    "## Simulating a Disease Outbreak\n",
    "\n",
    "To conclude we will use the widgets below to simulate a disease outbreak using the SIR model. \n",
    "You can choose the values of all the elements of the model (sizes of the compartments of the population at the beginning of the outbreak, parameters $\\gamma$ and $\\beta$, and duration in time units (days) of the outbreak. The default parameters are the ones from the Eyam plague outbreak.\n",
    "\n",
    "The result is a series of three graphs that shows how the three components of the population change during the outbreak. It allows you to see the impact of changes in the parameters $\\gamma$ and $\\beta$, such as increasing $\\beta$ (making the outbreak progress faster) or reducing $\\gamma$ (decreasing the removal rate).\n",
    "\n",
    "You can use this interactive tool to try to fit the SIR model to match the observed data."
   ]
  },
  {
   "cell_type": "code",
   "execution_count": 3,
   "metadata": {},
   "outputs": [
    {
     "data": {
      "application/vnd.jupyter.widget-view+json": {
       "model_id": "463c090c730a485e91d3876a926fe110",
       "version_major": 2,
       "version_minor": 0
      },
      "text/plain": [
       "interactive(children=(IntSlider(value=254, description='Susceptible Initial', max=10000, min=200, style=Slider…"
      ]
     },
     "metadata": {},
     "output_type": "display_data"
    }
   ],
   "source": [
    "import matplotlib.pyplot as plt\n",
    "import numpy as np\n",
    "from math import ceil\n",
    "\n",
    "# This function takes as input initial values of susceptible, infected and removed, number of days, beta and gamma\n",
    "# it plots the SIR model with the above conditions\n",
    "def plot_SIR(S1,I1,R1,n,beta,gamma):\n",
    "    \n",
    "    # Initialize figure\n",
    "    fig = plt.figure(facecolor='w',figsize=(17,5))\n",
    "    ax  = fig.add_subplot(111,facecolor = '#ffffff')\n",
    "    \n",
    "    # Compute SIR values for our initial data and parameters\n",
    "    (S_f,I_f,R_f) = discrete_SIR(S1,I1,R1,n,beta,gamma)    \n",
    "    \n",
    "    # Set x axis\n",
    "    x = [i for i in range(n)]\n",
    "   \n",
    "    # Scatter plot of evolution of susceptible over the course of x days\n",
    "    plt.scatter(x,S_f,c= 'b',label='Susceptible')\n",
    "    \n",
    "    # Scatter plot of evolution of infected over the course of x days\n",
    "    plt.scatter(x,I_f,c='r',label='Infected')\n",
    "    \n",
    "    # Scatter plot of evolution of removed over the course of x days\n",
    "    plt.scatter(x,R_f,c='g',label='Removed')\n",
    "\n",
    "    # Make the plot pretty\n",
    "    plt.xlabel('Time (days)')\n",
    "    plt.ylabel('Number of individuals')\n",
    "    plt.title('Simulation of a Disease Outbreak Using the SIR Model')\n",
    "    legend = ax.legend()\n",
    "    plt.show()\n",
    "    \n",
    "    # Print messages to aid student understand and interpret what is happening in the plot\n",
    "    print(\"SIMULATION DATA\\n\")\n",
    "    print(\"Beta: \" + str(beta))\n",
    "    print(\"Gamma: \" + str(gamma))\n",
    "    print(\"\\n\")\n",
    "    print(\"Initial Conditions:\")\n",
    "    print(\"Total number of Susceptible: \"  + str(ceil(S_f[0])))\n",
    "    print(\"Total number of Infected: \"  + str(ceil(I_f[0])))\n",
    "    print(\"Total number of Removed: \"  + str(ceil(R_f[0])))\n",
    "    print(\"\\n\")\n",
    "    print(\"After \" + str(n) + \" days:\")\n",
    "    print(\"Total number of Susceptible: \"  + str(ceil(S_f[n-1])))\n",
    "    print(\"Total number of Infected: \"  + str(ceil(I_f[n-1])) )\n",
    "    print(\"Total number of Removed: \"  + str(ceil(R_f[n-1])))\n",
    "\n",
    "# Tweaking initial Values\n",
    "from ipywidgets import widgets, interact, interact_manual\n",
    "\n",
    "# Set function above so that the user can set all parameters and manually start simulation\n",
    "s = {'description_width': 'initial'}\n",
    "interact_manual(plot_SIR,\n",
    "        S1 = widgets.IntSlider(value=254, min=200, max=10000, step=1, style=s, description=\"Susceptible Initial\", \n",
    "                               disabled=False, orientation='horizontal', readout=True),\n",
    "        I1 = widgets.IntSlider(value=7, min=0, max=500, step=1, style=s, description=\"Infected Initial\",\n",
    "                               disabled=False, orientation='horizontal', readout=True),\n",
    "        R1 = widgets.IntSlider(value=0, min=0, max=500, step=1, style=s, description=\"Removed Initial\",\n",
    "                               disabled=False, orientation='horizontal', readout=True),\n",
    "        n = widgets.IntSlider(value=112, min=0, max=500, step=1, style=s, description=\"Time (days)\",\n",
    "                              disabled=False, orientation='horizontal', readout=True),\n",
    "        beta = widgets.FloatText(value=1.50, description=r'$ \\beta$ parameter',\n",
    "                                 disabled=False, style = s, step=0.01),\n",
    "        gamma = widgets.FloatText(value=1.50, description= r'$ \\gamma$ parameter',\n",
    "                                  disabled=False, style=s, step=0.01)\n",
    "        );"
   ]
  },
  {
   "cell_type": "markdown",
   "metadata": {},
   "source": [
    "### Answer 1\n",
    "Since we are assuming the population is constant, and since $S_1 = 254, I_1 = 7, R_1 = 0$, then  $S_1 + I_1 + R_1 = 254 + 7 + 0  = 261$.\n",
    "\n",
    "### Answer 2\n",
    "We know that, on average, an individual will remain infected for approximately 11 days. This means that one individual moves to the removed class for every 11 days, and the rate of removal is $\\gamma = \\frac{1}{11} = 0.0909...$.\n",
    "\n",
    "### Answer 3\n",
    "The best value is approximately $\\beta = 0.14909440503418078$."
   ]
  },
  {
   "cell_type": "markdown",
   "metadata": {},
   "source": [
    "<h2 align='center'>Conclusion</h2>\n",
    "\n",
    "In this notebook we learned about the SIR discrete model to model an outbreak. We learned that this model is one of the simplest ones and that it separates the total population $N$ (a constant) into three categories: Infected, Susceptible and Removed. We learned about rates of infection and removal and how this affects the number of individuals in each class. \n",
    "\n",
    "We also ran a basic but realistic simulation of a bubonic plague outbreak of the Great Plague of London that took place in the village Eyam in 1665 and learned about the devastating effect this had on the population. "
   ]
  },
  {
   "cell_type": "code",
   "execution_count": null,
   "metadata": {},
   "outputs": [],
   "source": []
  },
  {
   "cell_type": "markdown",
   "metadata": {},
   "source": [
    "<img src=\"./images/callysto_notebook-banners_bottom.png\" width=\"2000px\"/> "
   ]
  }
 ],
 "metadata": {
  "kernelspec": {
   "display_name": "Python 3",
   "language": "python",
   "name": "python3"
  },
  "language_info": {
   "codemirror_mode": {
    "name": "ipython",
    "version": 3
   },
   "file_extension": ".py",
   "mimetype": "text/x-python",
   "name": "python",
   "nbconvert_exporter": "python",
   "pygments_lexer": "ipython3",
   "version": "3.7.4"
  }
 },
 "nbformat": 4,
 "nbformat_minor": 2
}
